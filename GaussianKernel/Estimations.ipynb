{
 "cells": [
  {
   "cell_type": "code",
   "execution_count": 1,
   "metadata": {},
   "outputs": [],
   "source": [
    "import plotly_express as px\n",
    "import pandas as pd \n",
    "import numpy as np\n",
    "import matplotlib.pyplot as plt \n",
    "import math\n",
    "data = pd.read_csv('weco.csv')"
   ]
  },
  {
   "cell_type": "markdown",
   "metadata": {},
   "source": [
    "2(a)"
   ]
  },
  {
   "cell_type": "code",
   "execution_count": 17,
   "metadata": {},
   "outputs": [
    {
     "data": {
      "text/html": [
       "<div>\n",
       "<style scoped>\n",
       "    .dataframe tbody tr th:only-of-type {\n",
       "        vertical-align: middle;\n",
       "    }\n",
       "\n",
       "    .dataframe tbody tr th {\n",
       "        vertical-align: top;\n",
       "    }\n",
       "\n",
       "    .dataframe thead th {\n",
       "        text-align: right;\n",
       "    }\n",
       "</style>\n",
       "<table border=\"1\" class=\"dataframe\">\n",
       "  <thead>\n",
       "    <tr style=\"text-align: right;\">\n",
       "      <th></th>\n",
       "      <th>sex</th>\n",
       "      <th>dex</th>\n",
       "      <th>lex</th>\n",
       "      <th>quit</th>\n",
       "      <th>job_tenure</th>\n",
       "      <th>status</th>\n",
       "      <th>JT_Months</th>\n",
       "      <th>Profit ($)</th>\n",
       "    </tr>\n",
       "  </thead>\n",
       "  <tbody>\n",
       "    <tr>\n",
       "      <th>2</th>\n",
       "      <td>1</td>\n",
       "      <td>45</td>\n",
       "      <td>12.0</td>\n",
       "      <td>0</td>\n",
       "      <td>410</td>\n",
       "      <td>1</td>\n",
       "      <td>6.83</td>\n",
       "      <td>2490.0</td>\n",
       "    </tr>\n",
       "    <tr>\n",
       "      <th>5</th>\n",
       "      <td>0</td>\n",
       "      <td>38</td>\n",
       "      <td>12.0</td>\n",
       "      <td>0</td>\n",
       "      <td>517</td>\n",
       "      <td>1</td>\n",
       "      <td>8.62</td>\n",
       "      <td>7860.0</td>\n",
       "    </tr>\n",
       "    <tr>\n",
       "      <th>10</th>\n",
       "      <td>0</td>\n",
       "      <td>55</td>\n",
       "      <td>12.0</td>\n",
       "      <td>0</td>\n",
       "      <td>387</td>\n",
       "      <td>0</td>\n",
       "      <td>6.45</td>\n",
       "      <td>1350.0</td>\n",
       "    </tr>\n",
       "    <tr>\n",
       "      <th>11</th>\n",
       "      <td>1</td>\n",
       "      <td>45</td>\n",
       "      <td>12.0</td>\n",
       "      <td>0</td>\n",
       "      <td>469</td>\n",
       "      <td>1</td>\n",
       "      <td>7.82</td>\n",
       "      <td>5460.0</td>\n",
       "    </tr>\n",
       "    <tr>\n",
       "      <th>14</th>\n",
       "      <td>1</td>\n",
       "      <td>36</td>\n",
       "      <td>11.0</td>\n",
       "      <td>0</td>\n",
       "      <td>382</td>\n",
       "      <td>1</td>\n",
       "      <td>6.37</td>\n",
       "      <td>1110.0</td>\n",
       "    </tr>\n",
       "    <tr>\n",
       "      <th>...</th>\n",
       "      <td>...</td>\n",
       "      <td>...</td>\n",
       "      <td>...</td>\n",
       "      <td>...</td>\n",
       "      <td>...</td>\n",
       "      <td>...</td>\n",
       "      <td>...</td>\n",
       "      <td>...</td>\n",
       "    </tr>\n",
       "    <tr>\n",
       "      <th>662</th>\n",
       "      <td>1</td>\n",
       "      <td>41</td>\n",
       "      <td>12.0</td>\n",
       "      <td>0</td>\n",
       "      <td>479</td>\n",
       "      <td>1</td>\n",
       "      <td>7.98</td>\n",
       "      <td>5940.0</td>\n",
       "    </tr>\n",
       "    <tr>\n",
       "      <th>664</th>\n",
       "      <td>0</td>\n",
       "      <td>53</td>\n",
       "      <td>13.0</td>\n",
       "      <td>0</td>\n",
       "      <td>617</td>\n",
       "      <td>1</td>\n",
       "      <td>10.28</td>\n",
       "      <td>12840.0</td>\n",
       "    </tr>\n",
       "    <tr>\n",
       "      <th>672</th>\n",
       "      <td>0</td>\n",
       "      <td>53</td>\n",
       "      <td>12.0</td>\n",
       "      <td>0</td>\n",
       "      <td>562</td>\n",
       "      <td>0</td>\n",
       "      <td>9.37</td>\n",
       "      <td>10110.0</td>\n",
       "    </tr>\n",
       "    <tr>\n",
       "      <th>675</th>\n",
       "      <td>0</td>\n",
       "      <td>52</td>\n",
       "      <td>12.0</td>\n",
       "      <td>0</td>\n",
       "      <td>580</td>\n",
       "      <td>0</td>\n",
       "      <td>9.67</td>\n",
       "      <td>11010.0</td>\n",
       "    </tr>\n",
       "    <tr>\n",
       "      <th>678</th>\n",
       "      <td>0</td>\n",
       "      <td>53</td>\n",
       "      <td>12.0</td>\n",
       "      <td>0</td>\n",
       "      <td>1399</td>\n",
       "      <td>0</td>\n",
       "      <td>23.32</td>\n",
       "      <td>51960.0</td>\n",
       "    </tr>\n",
       "  </tbody>\n",
       "</table>\n",
       "<p>286 rows × 8 columns</p>\n",
       "</div>"
      ],
      "text/plain": [
       "     sex  dex   lex  quit  job_tenure  status  JT_Months  Profit ($)\n",
       "2      1   45  12.0     0         410       1       6.83      2490.0\n",
       "5      0   38  12.0     0         517       1       8.62      7860.0\n",
       "10     0   55  12.0     0         387       0       6.45      1350.0\n",
       "11     1   45  12.0     0         469       1       7.82      5460.0\n",
       "14     1   36  11.0     0         382       1       6.37      1110.0\n",
       "..   ...  ...   ...   ...         ...     ...        ...         ...\n",
       "662    1   41  12.0     0         479       1       7.98      5940.0\n",
       "664    0   53  13.0     0         617       1      10.28     12840.0\n",
       "672    0   53  12.0     0         562       0       9.37     10110.0\n",
       "675    0   52  12.0     0         580       0       9.67     11010.0\n",
       "678    0   53  12.0     0        1399       0      23.32     51960.0\n",
       "\n",
       "[286 rows x 8 columns]"
      ]
     },
     "execution_count": 17,
     "metadata": {},
     "output_type": "execute_result"
    }
   ],
   "source": [
    "data['JT_Months'] = (data['job_tenure']/60).round(2)\n",
    "data = data.loc[data['JT_Months']>6]\n",
    "data['Profit ($)'] = ((data.JT_Months-6)*30)*100\n",
    "data"
   ]
  },
  {
   "cell_type": "code",
   "execution_count": 18,
   "metadata": {},
   "outputs": [
    {
     "data": {
      "application/vnd.plotly.v1+json": {
       "config": {
        "plotlyServerURL": "https://plot.ly"
       },
       "data": [
        {
         "hovertemplate": "dex=%{x}<br>Profit ($)=%{y}<extra></extra>",
         "legendgroup": "",
         "marker": {
          "color": "#636efa",
          "symbol": "circle"
         },
         "mode": "markers",
         "name": "",
         "orientation": "v",
         "showlegend": false,
         "type": "scatter",
         "x": [
          45,
          38,
          55,
          45,
          36,
          40,
          38,
          54,
          58,
          40,
          51,
          47,
          46,
          57,
          49,
          61,
          43,
          46,
          38,
          46,
          40,
          52,
          52,
          52,
          44,
          36,
          62,
          50,
          53,
          50,
          51,
          54,
          51,
          59,
          63,
          52,
          56,
          39,
          48,
          57,
          57,
          49,
          59,
          49,
          40,
          56,
          44,
          58,
          50,
          42,
          47,
          51,
          49,
          48,
          44,
          43,
          37,
          48,
          57,
          64,
          47,
          47,
          47,
          47,
          58,
          46,
          50,
          50,
          47,
          38,
          57,
          48,
          55,
          42,
          46,
          58,
          52,
          52,
          40,
          50,
          55,
          52,
          50,
          50,
          56,
          60,
          35,
          52,
          58,
          35,
          51,
          48,
          37,
          49,
          53,
          44,
          43,
          48,
          57,
          48,
          52,
          53,
          47,
          42,
          49,
          41,
          50,
          41,
          59,
          52,
          48,
          51,
          50,
          52,
          39,
          39,
          56,
          61,
          45,
          57,
          46,
          48,
          34,
          40,
          54,
          47,
          58,
          49,
          50,
          44,
          63,
          53,
          40,
          49,
          55,
          45,
          51,
          53,
          51,
          52,
          39,
          48,
          51,
          45,
          57,
          60,
          35,
          39,
          46,
          57,
          40,
          47,
          50,
          52,
          45,
          47,
          63,
          43,
          65,
          51,
          44,
          43,
          52,
          57,
          49,
          54,
          51,
          52,
          43,
          43,
          49,
          34,
          48,
          43,
          40,
          55,
          40,
          40,
          44,
          58,
          44,
          47,
          45,
          39,
          48,
          44,
          54,
          48,
          46,
          60,
          44,
          61,
          40,
          52,
          54,
          48,
          48,
          48,
          49,
          47,
          39,
          39,
          38,
          46,
          45,
          45,
          47,
          44,
          41,
          45,
          50,
          57,
          43,
          41,
          39,
          51,
          56,
          50,
          50,
          55,
          42,
          43,
          40,
          40,
          45,
          46,
          53,
          41,
          44,
          54,
          47,
          51,
          41,
          47,
          35,
          38,
          46,
          46,
          51,
          48,
          49,
          34,
          40,
          45,
          56,
          47,
          56,
          55,
          50,
          53,
          52,
          53,
          52,
          58,
          50,
          45,
          57,
          43,
          54,
          44,
          56,
          49,
          53,
          47,
          46,
          42,
          45,
          44,
          44,
          39,
          51,
          49,
          48,
          39,
          53,
          50,
          42,
          42,
          47,
          36,
          43,
          41,
          53,
          53,
          52,
          53
         ],
         "xaxis": "x",
         "y": [
          2490,
          7859.999999999998,
          1350.0000000000005,
          5460.000000000001,
          1110.0000000000002,
          1649.9999999999993,
          5940.000000000001,
          28410.000000000004,
          10650.000000000004,
          7200.000000000002,
          27989.999999999996,
          10410.000000000002,
          2100.000000000001,
          29789.999999999996,
          13890.000000000004,
          16890.000000000004,
          13890.000000000004,
          19710.000000000004,
          5490.000000000001,
          9299.999999999998,
          1259.9999999999998,
          9540,
          2640,
          7109.999999999998,
          3059.9999999999986,
          17039.999999999996,
          30000,
          15599.999999999996,
          10290,
          13289.999999999998,
          11010,
          15539.999999999998,
          16260,
          240.00000000000023,
          11099.999999999996,
          2909.9999999999995,
          41850,
          1049.9999999999989,
          5399.999999999999,
          15359.999999999996,
          102149.99999999999,
          9599.999999999996,
          85140.00000000001,
          8940,
          4200.000000000002,
          6690.000000000001,
          31350,
          19500,
          9660.000000000002,
          15960.000000000002,
          52590.00000000001,
          750,
          2309.9999999999986,
          1110.0000000000002,
          30840.000000000004,
          42960,
          840.0000000000008,
          62909.99999999999,
          13710.000000000002,
          34650,
          2399.999999999999,
          5490.000000000001,
          690.0000000000013,
          6240.000000000001,
          56100,
          14490,
          33990,
          19440,
          1500,
          9150.000000000004,
          32610.000000000004,
          25140.000000000004,
          1710.000000000001,
          12089.999999999998,
          4590.000000000001,
          9839.999999999998,
          3539.999999999999,
          44400,
          10290,
          2340.0000000000005,
          14250,
          5100.000000000001,
          3539.999999999999,
          13650.000000000004,
          16500,
          49740,
          23700,
          43800.00000000001,
          28589.999999999996,
          2700.000000000001,
          7710.000000000001,
          210.00000000000085,
          2009.9999999999998,
          8400.000000000004,
          69810,
          6750,
          12359.999999999998,
          72600,
          14550,
          539.9999999999991,
          1409.9999999999993,
          10740,
          9750,
          8490,
          360.00000000000034,
          6299.999999999998,
          16200,
          750,
          21750,
          4799.999999999998,
          11190,
          20940,
          1289.999999999999,
          113310.00000000001,
          6509.999999999999,
          5100.000000000001,
          26339.999999999996,
          8490,
          2909.9999999999995,
          22200,
          509.9999999999998,
          2850.000000000001,
          509.9999999999998,
          11250,
          11040,
          4140,
          5340.000000000001,
          7200.000000000002,
          13109.999999999996,
          4590.000000000001,
          65040,
          21060,
          899.9999999999994,
          24599.999999999996,
          18750,
          4289.999999999999,
          4049.9999999999986,
          14789.999999999998,
          31440.000000000004,
          3059.9999999999986,
          5039.999999999999,
          4559.999999999999,
          299.9999999999989,
          5399.999999999999,
          32400,
          6839.999999999998,
          3090.0000000000005,
          2399.999999999999,
          8250,
          18300,
          90.00000000000074,
          5100.000000000001,
          18390.000000000004,
          240.00000000000023,
          389.99999999999966,
          26550,
          8339.999999999998,
          6839.999999999998,
          12960.000000000002,
          35760,
          16440,
          10290,
          24900.000000000004,
          8640.000000000002,
          7859.999999999998,
          15000,
          690.0000000000013,
          5850.000000000001,
          960.0000000000009,
          18089.999999999996,
          15960.000000000002,
          5039.999999999999,
          1139.9999999999998,
          14700,
          4049.9999999999986,
          13650.000000000004,
          2100.000000000001,
          10260,
          2039.999999999999,
          12510,
          6000,
          9000,
          25349.999999999996,
          5610,
          9690,
          26010.000000000004,
          37710,
          4590.000000000001,
          36000,
          21210.000000000004,
          7950.000000000002,
          57060,
          7589.999999999998,
          7650.000000000003,
          13800,
          14849.999999999996,
          750,
          2850.000000000001,
          1889.9999999999998,
          659.9999999999992,
          30300.000000000007,
          1500,
          4710.000000000001,
          9060,
          2460.000000000001,
          31199.999999999993,
          4710.000000000001,
          15990,
          2940.0000000000014,
          15300,
          2909.9999999999995,
          70500,
          3509.9999999999995,
          34140,
          11339.999999999998,
          50010,
          42990,
          8190.000000000001,
          43140,
          103409.99999999999,
          4259.999999999999,
          4110,
          6539.999999999999,
          46710,
          28440.000000000004,
          10650.000000000004,
          20310,
          19050,
          3059.9999999999986,
          7500,
          2009.9999999999998,
          13200,
          3840.0000000000005,
          10500,
          539.9999999999991,
          4440.000000000001,
          4860,
          1649.9999999999993,
          42000,
          16289.999999999998,
          5490.000000000001,
          49350,
          15450,
          2399.999999999999,
          25140.000000000004,
          5789.999999999999,
          8640.000000000002,
          27989.999999999996,
          9240,
          25859.999999999996,
          28710.000000000004,
          659.9999999999992,
          70260,
          37860,
          9839.999999999998,
          11190,
          899.9999999999994,
          10710,
          8849.999999999996,
          22200,
          52710,
          1740.0000000000002,
          33360,
          2340.0000000000005,
          23460.000000000004,
          16410.000000000004,
          1889.9999999999998,
          21210.000000000004,
          20099.999999999996,
          6089.999999999998,
          18750,
          88590.00000000001,
          22140.000000000004,
          3390,
          40140,
          12089.999999999998,
          840.0000000000008,
          5190.000000000001,
          13560,
          4890,
          5039.999999999999,
          5940.000000000001,
          12839.999999999998,
          10109.999999999998,
          11010,
          51960
         ],
         "yaxis": "y"
        }
       ],
       "layout": {
        "legend": {
         "tracegroupgap": 0
        },
        "margin": {
         "t": 60
        },
        "template": {
         "data": {
          "bar": [
           {
            "error_x": {
             "color": "#2a3f5f"
            },
            "error_y": {
             "color": "#2a3f5f"
            },
            "marker": {
             "line": {
              "color": "#E5ECF6",
              "width": 0.5
             },
             "pattern": {
              "fillmode": "overlay",
              "size": 10,
              "solidity": 0.2
             }
            },
            "type": "bar"
           }
          ],
          "barpolar": [
           {
            "marker": {
             "line": {
              "color": "#E5ECF6",
              "width": 0.5
             },
             "pattern": {
              "fillmode": "overlay",
              "size": 10,
              "solidity": 0.2
             }
            },
            "type": "barpolar"
           }
          ],
          "carpet": [
           {
            "aaxis": {
             "endlinecolor": "#2a3f5f",
             "gridcolor": "white",
             "linecolor": "white",
             "minorgridcolor": "white",
             "startlinecolor": "#2a3f5f"
            },
            "baxis": {
             "endlinecolor": "#2a3f5f",
             "gridcolor": "white",
             "linecolor": "white",
             "minorgridcolor": "white",
             "startlinecolor": "#2a3f5f"
            },
            "type": "carpet"
           }
          ],
          "choropleth": [
           {
            "colorbar": {
             "outlinewidth": 0,
             "ticks": ""
            },
            "type": "choropleth"
           }
          ],
          "contour": [
           {
            "colorbar": {
             "outlinewidth": 0,
             "ticks": ""
            },
            "colorscale": [
             [
              0,
              "#0d0887"
             ],
             [
              0.1111111111111111,
              "#46039f"
             ],
             [
              0.2222222222222222,
              "#7201a8"
             ],
             [
              0.3333333333333333,
              "#9c179e"
             ],
             [
              0.4444444444444444,
              "#bd3786"
             ],
             [
              0.5555555555555556,
              "#d8576b"
             ],
             [
              0.6666666666666666,
              "#ed7953"
             ],
             [
              0.7777777777777778,
              "#fb9f3a"
             ],
             [
              0.8888888888888888,
              "#fdca26"
             ],
             [
              1,
              "#f0f921"
             ]
            ],
            "type": "contour"
           }
          ],
          "contourcarpet": [
           {
            "colorbar": {
             "outlinewidth": 0,
             "ticks": ""
            },
            "type": "contourcarpet"
           }
          ],
          "heatmap": [
           {
            "colorbar": {
             "outlinewidth": 0,
             "ticks": ""
            },
            "colorscale": [
             [
              0,
              "#0d0887"
             ],
             [
              0.1111111111111111,
              "#46039f"
             ],
             [
              0.2222222222222222,
              "#7201a8"
             ],
             [
              0.3333333333333333,
              "#9c179e"
             ],
             [
              0.4444444444444444,
              "#bd3786"
             ],
             [
              0.5555555555555556,
              "#d8576b"
             ],
             [
              0.6666666666666666,
              "#ed7953"
             ],
             [
              0.7777777777777778,
              "#fb9f3a"
             ],
             [
              0.8888888888888888,
              "#fdca26"
             ],
             [
              1,
              "#f0f921"
             ]
            ],
            "type": "heatmap"
           }
          ],
          "heatmapgl": [
           {
            "colorbar": {
             "outlinewidth": 0,
             "ticks": ""
            },
            "colorscale": [
             [
              0,
              "#0d0887"
             ],
             [
              0.1111111111111111,
              "#46039f"
             ],
             [
              0.2222222222222222,
              "#7201a8"
             ],
             [
              0.3333333333333333,
              "#9c179e"
             ],
             [
              0.4444444444444444,
              "#bd3786"
             ],
             [
              0.5555555555555556,
              "#d8576b"
             ],
             [
              0.6666666666666666,
              "#ed7953"
             ],
             [
              0.7777777777777778,
              "#fb9f3a"
             ],
             [
              0.8888888888888888,
              "#fdca26"
             ],
             [
              1,
              "#f0f921"
             ]
            ],
            "type": "heatmapgl"
           }
          ],
          "histogram": [
           {
            "marker": {
             "pattern": {
              "fillmode": "overlay",
              "size": 10,
              "solidity": 0.2
             }
            },
            "type": "histogram"
           }
          ],
          "histogram2d": [
           {
            "colorbar": {
             "outlinewidth": 0,
             "ticks": ""
            },
            "colorscale": [
             [
              0,
              "#0d0887"
             ],
             [
              0.1111111111111111,
              "#46039f"
             ],
             [
              0.2222222222222222,
              "#7201a8"
             ],
             [
              0.3333333333333333,
              "#9c179e"
             ],
             [
              0.4444444444444444,
              "#bd3786"
             ],
             [
              0.5555555555555556,
              "#d8576b"
             ],
             [
              0.6666666666666666,
              "#ed7953"
             ],
             [
              0.7777777777777778,
              "#fb9f3a"
             ],
             [
              0.8888888888888888,
              "#fdca26"
             ],
             [
              1,
              "#f0f921"
             ]
            ],
            "type": "histogram2d"
           }
          ],
          "histogram2dcontour": [
           {
            "colorbar": {
             "outlinewidth": 0,
             "ticks": ""
            },
            "colorscale": [
             [
              0,
              "#0d0887"
             ],
             [
              0.1111111111111111,
              "#46039f"
             ],
             [
              0.2222222222222222,
              "#7201a8"
             ],
             [
              0.3333333333333333,
              "#9c179e"
             ],
             [
              0.4444444444444444,
              "#bd3786"
             ],
             [
              0.5555555555555556,
              "#d8576b"
             ],
             [
              0.6666666666666666,
              "#ed7953"
             ],
             [
              0.7777777777777778,
              "#fb9f3a"
             ],
             [
              0.8888888888888888,
              "#fdca26"
             ],
             [
              1,
              "#f0f921"
             ]
            ],
            "type": "histogram2dcontour"
           }
          ],
          "mesh3d": [
           {
            "colorbar": {
             "outlinewidth": 0,
             "ticks": ""
            },
            "type": "mesh3d"
           }
          ],
          "parcoords": [
           {
            "line": {
             "colorbar": {
              "outlinewidth": 0,
              "ticks": ""
             }
            },
            "type": "parcoords"
           }
          ],
          "pie": [
           {
            "automargin": true,
            "type": "pie"
           }
          ],
          "scatter": [
           {
            "marker": {
             "colorbar": {
              "outlinewidth": 0,
              "ticks": ""
             }
            },
            "type": "scatter"
           }
          ],
          "scatter3d": [
           {
            "line": {
             "colorbar": {
              "outlinewidth": 0,
              "ticks": ""
             }
            },
            "marker": {
             "colorbar": {
              "outlinewidth": 0,
              "ticks": ""
             }
            },
            "type": "scatter3d"
           }
          ],
          "scattercarpet": [
           {
            "marker": {
             "colorbar": {
              "outlinewidth": 0,
              "ticks": ""
             }
            },
            "type": "scattercarpet"
           }
          ],
          "scattergeo": [
           {
            "marker": {
             "colorbar": {
              "outlinewidth": 0,
              "ticks": ""
             }
            },
            "type": "scattergeo"
           }
          ],
          "scattergl": [
           {
            "marker": {
             "colorbar": {
              "outlinewidth": 0,
              "ticks": ""
             }
            },
            "type": "scattergl"
           }
          ],
          "scattermapbox": [
           {
            "marker": {
             "colorbar": {
              "outlinewidth": 0,
              "ticks": ""
             }
            },
            "type": "scattermapbox"
           }
          ],
          "scatterpolar": [
           {
            "marker": {
             "colorbar": {
              "outlinewidth": 0,
              "ticks": ""
             }
            },
            "type": "scatterpolar"
           }
          ],
          "scatterpolargl": [
           {
            "marker": {
             "colorbar": {
              "outlinewidth": 0,
              "ticks": ""
             }
            },
            "type": "scatterpolargl"
           }
          ],
          "scatterternary": [
           {
            "marker": {
             "colorbar": {
              "outlinewidth": 0,
              "ticks": ""
             }
            },
            "type": "scatterternary"
           }
          ],
          "surface": [
           {
            "colorbar": {
             "outlinewidth": 0,
             "ticks": ""
            },
            "colorscale": [
             [
              0,
              "#0d0887"
             ],
             [
              0.1111111111111111,
              "#46039f"
             ],
             [
              0.2222222222222222,
              "#7201a8"
             ],
             [
              0.3333333333333333,
              "#9c179e"
             ],
             [
              0.4444444444444444,
              "#bd3786"
             ],
             [
              0.5555555555555556,
              "#d8576b"
             ],
             [
              0.6666666666666666,
              "#ed7953"
             ],
             [
              0.7777777777777778,
              "#fb9f3a"
             ],
             [
              0.8888888888888888,
              "#fdca26"
             ],
             [
              1,
              "#f0f921"
             ]
            ],
            "type": "surface"
           }
          ],
          "table": [
           {
            "cells": {
             "fill": {
              "color": "#EBF0F8"
             },
             "line": {
              "color": "white"
             }
            },
            "header": {
             "fill": {
              "color": "#C8D4E3"
             },
             "line": {
              "color": "white"
             }
            },
            "type": "table"
           }
          ]
         },
         "layout": {
          "annotationdefaults": {
           "arrowcolor": "#2a3f5f",
           "arrowhead": 0,
           "arrowwidth": 1
          },
          "autotypenumbers": "strict",
          "coloraxis": {
           "colorbar": {
            "outlinewidth": 0,
            "ticks": ""
           }
          },
          "colorscale": {
           "diverging": [
            [
             0,
             "#8e0152"
            ],
            [
             0.1,
             "#c51b7d"
            ],
            [
             0.2,
             "#de77ae"
            ],
            [
             0.3,
             "#f1b6da"
            ],
            [
             0.4,
             "#fde0ef"
            ],
            [
             0.5,
             "#f7f7f7"
            ],
            [
             0.6,
             "#e6f5d0"
            ],
            [
             0.7,
             "#b8e186"
            ],
            [
             0.8,
             "#7fbc41"
            ],
            [
             0.9,
             "#4d9221"
            ],
            [
             1,
             "#276419"
            ]
           ],
           "sequential": [
            [
             0,
             "#0d0887"
            ],
            [
             0.1111111111111111,
             "#46039f"
            ],
            [
             0.2222222222222222,
             "#7201a8"
            ],
            [
             0.3333333333333333,
             "#9c179e"
            ],
            [
             0.4444444444444444,
             "#bd3786"
            ],
            [
             0.5555555555555556,
             "#d8576b"
            ],
            [
             0.6666666666666666,
             "#ed7953"
            ],
            [
             0.7777777777777778,
             "#fb9f3a"
            ],
            [
             0.8888888888888888,
             "#fdca26"
            ],
            [
             1,
             "#f0f921"
            ]
           ],
           "sequentialminus": [
            [
             0,
             "#0d0887"
            ],
            [
             0.1111111111111111,
             "#46039f"
            ],
            [
             0.2222222222222222,
             "#7201a8"
            ],
            [
             0.3333333333333333,
             "#9c179e"
            ],
            [
             0.4444444444444444,
             "#bd3786"
            ],
            [
             0.5555555555555556,
             "#d8576b"
            ],
            [
             0.6666666666666666,
             "#ed7953"
            ],
            [
             0.7777777777777778,
             "#fb9f3a"
            ],
            [
             0.8888888888888888,
             "#fdca26"
            ],
            [
             1,
             "#f0f921"
            ]
           ]
          },
          "colorway": [
           "#636efa",
           "#EF553B",
           "#00cc96",
           "#ab63fa",
           "#FFA15A",
           "#19d3f3",
           "#FF6692",
           "#B6E880",
           "#FF97FF",
           "#FECB52"
          ],
          "font": {
           "color": "#2a3f5f"
          },
          "geo": {
           "bgcolor": "white",
           "lakecolor": "white",
           "landcolor": "#E5ECF6",
           "showlakes": true,
           "showland": true,
           "subunitcolor": "white"
          },
          "hoverlabel": {
           "align": "left"
          },
          "hovermode": "closest",
          "mapbox": {
           "style": "light"
          },
          "paper_bgcolor": "white",
          "plot_bgcolor": "#E5ECF6",
          "polar": {
           "angularaxis": {
            "gridcolor": "white",
            "linecolor": "white",
            "ticks": ""
           },
           "bgcolor": "#E5ECF6",
           "radialaxis": {
            "gridcolor": "white",
            "linecolor": "white",
            "ticks": ""
           }
          },
          "scene": {
           "xaxis": {
            "backgroundcolor": "#E5ECF6",
            "gridcolor": "white",
            "gridwidth": 2,
            "linecolor": "white",
            "showbackground": true,
            "ticks": "",
            "zerolinecolor": "white"
           },
           "yaxis": {
            "backgroundcolor": "#E5ECF6",
            "gridcolor": "white",
            "gridwidth": 2,
            "linecolor": "white",
            "showbackground": true,
            "ticks": "",
            "zerolinecolor": "white"
           },
           "zaxis": {
            "backgroundcolor": "#E5ECF6",
            "gridcolor": "white",
            "gridwidth": 2,
            "linecolor": "white",
            "showbackground": true,
            "ticks": "",
            "zerolinecolor": "white"
           }
          },
          "shapedefaults": {
           "line": {
            "color": "#2a3f5f"
           }
          },
          "ternary": {
           "aaxis": {
            "gridcolor": "white",
            "linecolor": "white",
            "ticks": ""
           },
           "baxis": {
            "gridcolor": "white",
            "linecolor": "white",
            "ticks": ""
           },
           "bgcolor": "#E5ECF6",
           "caxis": {
            "gridcolor": "white",
            "linecolor": "white",
            "ticks": ""
           }
          },
          "title": {
           "x": 0.05
          },
          "xaxis": {
           "automargin": true,
           "gridcolor": "white",
           "linecolor": "white",
           "ticks": "",
           "title": {
            "standoff": 15
           },
           "zerolinecolor": "white",
           "zerolinewidth": 2
          },
          "yaxis": {
           "automargin": true,
           "gridcolor": "white",
           "linecolor": "white",
           "ticks": "",
           "title": {
            "standoff": 15
           },
           "zerolinecolor": "white",
           "zerolinewidth": 2
          }
         }
        },
        "xaxis": {
         "anchor": "y",
         "domain": [
          0,
          1
         ],
         "title": {
          "text": "dex"
         }
        },
        "yaxis": {
         "anchor": "x",
         "domain": [
          0,
          1
         ],
         "title": {
          "text": "Profit ($)"
         }
        }
       }
      }
     },
     "metadata": {},
     "output_type": "display_data"
    }
   ],
   "source": [
    "px.scatter(data,x=data['dex'],y=data['Profit ($)'])"
   ]
  },
  {
   "cell_type": "markdown",
   "metadata": {},
   "source": [
    "Using the Gaussian kernel for profit estimation"
   ]
  },
  {
   "cell_type": "code",
   "execution_count": 19,
   "metadata": {},
   "outputs": [],
   "source": [
    "class GaussianKernel_ndim:\n",
    "    def __init__(self,x,y,b):\n",
    "        self.x = np.array(x)\n",
    "        self.y = np.array(y)\n",
    "        self.b = np.array(b)\n",
    "        \n",
    "        \n",
    "        # implementing the gaussian kernel\n",
    "    def gk(self, z):\n",
    "        return(1/math.sqrt(2*math.pi))*math.exp(-0.5*z**2)\n",
    "        \n",
    "        # calculating weights for prediction\n",
    "    def predict(self,X):\n",
    "        if len(X)==1:\n",
    "            kernels = np.array([self.gk((np.linalg.norm(xi-X))/self.b) for xi in self.x])\n",
    "            weights = np.array([len(self.x)* (kernel/np.sum(kernels)) for kernel in kernels])\n",
    "            return np.dot(weights.T, self.y)/len(self.x)\n",
    "        else:\n",
    "            out = []\n",
    "            for ele in X:\n",
    "                kernels = np.array([self.gk((np.linalg.norm(xi-ele))/self.b) for xi in self.x])\n",
    "                weights = np.array([len(self.x)* (kernel/np.sum(kernels)) for kernel in kernels])\n",
    "                out.append(np.dot(weights.T, self.y)/len(self.x))\n",
    "            return out"
   ]
  },
  {
   "cell_type": "code",
   "execution_count": 20,
   "metadata": {},
   "outputs": [],
   "source": [
    "x = np.array(data['dex'])\n",
    "y = np.array(data['Profit ($)'])"
   ]
  },
  {
   "cell_type": "code",
   "execution_count": 21,
   "metadata": {},
   "outputs": [],
   "source": [
    "model = GaussianKernel_ndim(x,y,3)\n",
    "woThreshold = model.predict(x)"
   ]
  },
  {
   "cell_type": "markdown",
   "metadata": {},
   "source": [
    "2(b)"
   ]
  },
  {
   "cell_type": "code",
   "execution_count": 22,
   "metadata": {},
   "outputs": [
    {
     "data": {
      "text/html": [
       "<div>\n",
       "<style scoped>\n",
       "    .dataframe tbody tr th:only-of-type {\n",
       "        vertical-align: middle;\n",
       "    }\n",
       "\n",
       "    .dataframe tbody tr th {\n",
       "        vertical-align: top;\n",
       "    }\n",
       "\n",
       "    .dataframe thead th {\n",
       "        text-align: right;\n",
       "    }\n",
       "</style>\n",
       "<table border=\"1\" class=\"dataframe\">\n",
       "  <thead>\n",
       "    <tr style=\"text-align: right;\">\n",
       "      <th></th>\n",
       "      <th>sex</th>\n",
       "      <th>dex</th>\n",
       "      <th>lex</th>\n",
       "      <th>quit</th>\n",
       "      <th>job_tenure</th>\n",
       "      <th>status</th>\n",
       "      <th>JT_Months</th>\n",
       "      <th>Profit ($)</th>\n",
       "    </tr>\n",
       "  </thead>\n",
       "  <tbody>\n",
       "    <tr>\n",
       "      <th>10</th>\n",
       "      <td>0</td>\n",
       "      <td>55</td>\n",
       "      <td>12.0</td>\n",
       "      <td>0</td>\n",
       "      <td>387</td>\n",
       "      <td>0</td>\n",
       "      <td>6.45</td>\n",
       "      <td>1350.0</td>\n",
       "    </tr>\n",
       "    <tr>\n",
       "      <th>18</th>\n",
       "      <td>0</td>\n",
       "      <td>54</td>\n",
       "      <td>11.0</td>\n",
       "      <td>0</td>\n",
       "      <td>928</td>\n",
       "      <td>1</td>\n",
       "      <td>15.47</td>\n",
       "      <td>28410.0</td>\n",
       "    </tr>\n",
       "    <tr>\n",
       "      <th>21</th>\n",
       "      <td>1</td>\n",
       "      <td>58</td>\n",
       "      <td>12.0</td>\n",
       "      <td>0</td>\n",
       "      <td>573</td>\n",
       "      <td>0</td>\n",
       "      <td>9.55</td>\n",
       "      <td>10650.0</td>\n",
       "    </tr>\n",
       "    <tr>\n",
       "      <th>26</th>\n",
       "      <td>1</td>\n",
       "      <td>51</td>\n",
       "      <td>12.0</td>\n",
       "      <td>0</td>\n",
       "      <td>920</td>\n",
       "      <td>1</td>\n",
       "      <td>15.33</td>\n",
       "      <td>27990.0</td>\n",
       "    </tr>\n",
       "    <tr>\n",
       "      <th>36</th>\n",
       "      <td>1</td>\n",
       "      <td>57</td>\n",
       "      <td>12.0</td>\n",
       "      <td>0</td>\n",
       "      <td>956</td>\n",
       "      <td>0</td>\n",
       "      <td>15.93</td>\n",
       "      <td>29790.0</td>\n",
       "    </tr>\n",
       "    <tr>\n",
       "      <th>...</th>\n",
       "      <td>...</td>\n",
       "      <td>...</td>\n",
       "      <td>...</td>\n",
       "      <td>...</td>\n",
       "      <td>...</td>\n",
       "      <td>...</td>\n",
       "      <td>...</td>\n",
       "      <td>...</td>\n",
       "    </tr>\n",
       "    <tr>\n",
       "      <th>650</th>\n",
       "      <td>1</td>\n",
       "      <td>53</td>\n",
       "      <td>12.0</td>\n",
       "      <td>0</td>\n",
       "      <td>1163</td>\n",
       "      <td>0</td>\n",
       "      <td>19.38</td>\n",
       "      <td>40140.0</td>\n",
       "    </tr>\n",
       "    <tr>\n",
       "      <th>664</th>\n",
       "      <td>0</td>\n",
       "      <td>53</td>\n",
       "      <td>13.0</td>\n",
       "      <td>0</td>\n",
       "      <td>617</td>\n",
       "      <td>1</td>\n",
       "      <td>10.28</td>\n",
       "      <td>12840.0</td>\n",
       "    </tr>\n",
       "    <tr>\n",
       "      <th>672</th>\n",
       "      <td>0</td>\n",
       "      <td>53</td>\n",
       "      <td>12.0</td>\n",
       "      <td>0</td>\n",
       "      <td>562</td>\n",
       "      <td>0</td>\n",
       "      <td>9.37</td>\n",
       "      <td>10110.0</td>\n",
       "    </tr>\n",
       "    <tr>\n",
       "      <th>675</th>\n",
       "      <td>0</td>\n",
       "      <td>52</td>\n",
       "      <td>12.0</td>\n",
       "      <td>0</td>\n",
       "      <td>580</td>\n",
       "      <td>0</td>\n",
       "      <td>9.67</td>\n",
       "      <td>11010.0</td>\n",
       "    </tr>\n",
       "    <tr>\n",
       "      <th>678</th>\n",
       "      <td>0</td>\n",
       "      <td>53</td>\n",
       "      <td>12.0</td>\n",
       "      <td>0</td>\n",
       "      <td>1399</td>\n",
       "      <td>0</td>\n",
       "      <td>23.32</td>\n",
       "      <td>51960.0</td>\n",
       "    </tr>\n",
       "  </tbody>\n",
       "</table>\n",
       "<p>105 rows × 8 columns</p>\n",
       "</div>"
      ],
      "text/plain": [
       "     sex  dex   lex  quit  job_tenure  status  JT_Months  Profit ($)\n",
       "10     0   55  12.0     0         387       0       6.45      1350.0\n",
       "18     0   54  11.0     0         928       1      15.47     28410.0\n",
       "21     1   58  12.0     0         573       0       9.55     10650.0\n",
       "26     1   51  12.0     0         920       1      15.33     27990.0\n",
       "36     1   57  12.0     0         956       0      15.93     29790.0\n",
       "..   ...  ...   ...   ...         ...     ...        ...         ...\n",
       "650    1   53  12.0     0        1163       0      19.38     40140.0\n",
       "664    0   53  13.0     0         617       1      10.28     12840.0\n",
       "672    0   53  12.0     0         562       0       9.37     10110.0\n",
       "675    0   52  12.0     0         580       0       9.67     11010.0\n",
       "678    0   53  12.0     0        1399       0      23.32     51960.0\n",
       "\n",
       "[105 rows x 8 columns]"
      ]
     },
     "execution_count": 22,
     "metadata": {},
     "output_type": "execute_result"
    }
   ],
   "source": [
    "Threshold = data.loc[data['dex']>50]\n",
    "Threshold"
   ]
  },
  {
   "cell_type": "code",
   "execution_count": 23,
   "metadata": {},
   "outputs": [
    {
     "data": {
      "application/vnd.plotly.v1+json": {
       "config": {
        "plotlyServerURL": "https://plot.ly"
       },
       "data": [
        {
         "hovertemplate": "dex=%{x}<br>Profit ($)=%{y}<extra></extra>",
         "legendgroup": "",
         "marker": {
          "color": "#636efa",
          "symbol": "circle"
         },
         "mode": "markers",
         "name": "",
         "orientation": "v",
         "showlegend": false,
         "type": "scatter",
         "x": [
          55,
          54,
          58,
          51,
          57,
          61,
          52,
          52,
          52,
          62,
          53,
          51,
          54,
          51,
          59,
          63,
          52,
          56,
          57,
          57,
          59,
          56,
          58,
          51,
          57,
          64,
          58,
          57,
          55,
          58,
          52,
          52,
          55,
          52,
          56,
          60,
          52,
          58,
          51,
          53,
          57,
          52,
          53,
          59,
          52,
          51,
          52,
          56,
          61,
          57,
          54,
          58,
          63,
          53,
          55,
          51,
          53,
          51,
          52,
          51,
          57,
          60,
          57,
          52,
          63,
          65,
          51,
          52,
          57,
          54,
          51,
          52,
          55,
          58,
          54,
          60,
          61,
          52,
          54,
          57,
          51,
          56,
          55,
          53,
          54,
          51,
          51,
          56,
          56,
          55,
          53,
          52,
          53,
          52,
          58,
          57,
          54,
          56,
          53,
          51,
          53,
          53,
          53,
          52,
          53
         ],
         "xaxis": "x",
         "y": [
          1350.0000000000005,
          28410.000000000004,
          10650.000000000004,
          27989.999999999996,
          29789.999999999996,
          16890.000000000004,
          9540,
          2640,
          7109.999999999998,
          30000,
          10290,
          11010,
          15539.999999999998,
          16260,
          240.00000000000023,
          11099.999999999996,
          2909.9999999999995,
          41850,
          15359.999999999996,
          102149.99999999999,
          85140.00000000001,
          6690.000000000001,
          19500,
          750,
          13710.000000000002,
          34650,
          56100,
          32610.000000000004,
          1710.000000000001,
          9839.999999999998,
          3539.999999999999,
          44400,
          14250,
          5100.000000000001,
          16500,
          49740,
          43800.00000000001,
          28589.999999999996,
          7710.000000000001,
          69810,
          14550,
          1409.9999999999993,
          10740,
          21750,
          4799.999999999998,
          20940,
          113310.00000000001,
          26339.999999999996,
          8490,
          22200,
          11040,
          5340.000000000001,
          65040,
          21060,
          18750,
          4049.9999999999986,
          14789.999999999998,
          31440.000000000004,
          3059.9999999999986,
          299.9999999999989,
          32400,
          6839.999999999998,
          18300,
          240.00000000000023,
          8339.999999999998,
          12960.000000000002,
          35760,
          24900.000000000004,
          8640.000000000002,
          15000,
          690.0000000000013,
          5850.000000000001,
          13650.000000000004,
          12510,
          37710,
          21210.000000000004,
          57060,
          7650.000000000003,
          13800,
          70500,
          50010,
          42990,
          103409.99999999999,
          20310,
          7500,
          13200,
          42000,
          25140.000000000004,
          8640.000000000002,
          27989.999999999996,
          25859.999999999996,
          28710.000000000004,
          659.9999999999992,
          70260,
          37860,
          899.9999999999994,
          8849.999999999996,
          52710,
          33360,
          18750,
          40140,
          12839.999999999998,
          10109.999999999998,
          11010,
          51960
         ],
         "yaxis": "y"
        }
       ],
       "layout": {
        "legend": {
         "tracegroupgap": 0
        },
        "margin": {
         "t": 60
        },
        "template": {
         "data": {
          "bar": [
           {
            "error_x": {
             "color": "#2a3f5f"
            },
            "error_y": {
             "color": "#2a3f5f"
            },
            "marker": {
             "line": {
              "color": "#E5ECF6",
              "width": 0.5
             },
             "pattern": {
              "fillmode": "overlay",
              "size": 10,
              "solidity": 0.2
             }
            },
            "type": "bar"
           }
          ],
          "barpolar": [
           {
            "marker": {
             "line": {
              "color": "#E5ECF6",
              "width": 0.5
             },
             "pattern": {
              "fillmode": "overlay",
              "size": 10,
              "solidity": 0.2
             }
            },
            "type": "barpolar"
           }
          ],
          "carpet": [
           {
            "aaxis": {
             "endlinecolor": "#2a3f5f",
             "gridcolor": "white",
             "linecolor": "white",
             "minorgridcolor": "white",
             "startlinecolor": "#2a3f5f"
            },
            "baxis": {
             "endlinecolor": "#2a3f5f",
             "gridcolor": "white",
             "linecolor": "white",
             "minorgridcolor": "white",
             "startlinecolor": "#2a3f5f"
            },
            "type": "carpet"
           }
          ],
          "choropleth": [
           {
            "colorbar": {
             "outlinewidth": 0,
             "ticks": ""
            },
            "type": "choropleth"
           }
          ],
          "contour": [
           {
            "colorbar": {
             "outlinewidth": 0,
             "ticks": ""
            },
            "colorscale": [
             [
              0,
              "#0d0887"
             ],
             [
              0.1111111111111111,
              "#46039f"
             ],
             [
              0.2222222222222222,
              "#7201a8"
             ],
             [
              0.3333333333333333,
              "#9c179e"
             ],
             [
              0.4444444444444444,
              "#bd3786"
             ],
             [
              0.5555555555555556,
              "#d8576b"
             ],
             [
              0.6666666666666666,
              "#ed7953"
             ],
             [
              0.7777777777777778,
              "#fb9f3a"
             ],
             [
              0.8888888888888888,
              "#fdca26"
             ],
             [
              1,
              "#f0f921"
             ]
            ],
            "type": "contour"
           }
          ],
          "contourcarpet": [
           {
            "colorbar": {
             "outlinewidth": 0,
             "ticks": ""
            },
            "type": "contourcarpet"
           }
          ],
          "heatmap": [
           {
            "colorbar": {
             "outlinewidth": 0,
             "ticks": ""
            },
            "colorscale": [
             [
              0,
              "#0d0887"
             ],
             [
              0.1111111111111111,
              "#46039f"
             ],
             [
              0.2222222222222222,
              "#7201a8"
             ],
             [
              0.3333333333333333,
              "#9c179e"
             ],
             [
              0.4444444444444444,
              "#bd3786"
             ],
             [
              0.5555555555555556,
              "#d8576b"
             ],
             [
              0.6666666666666666,
              "#ed7953"
             ],
             [
              0.7777777777777778,
              "#fb9f3a"
             ],
             [
              0.8888888888888888,
              "#fdca26"
             ],
             [
              1,
              "#f0f921"
             ]
            ],
            "type": "heatmap"
           }
          ],
          "heatmapgl": [
           {
            "colorbar": {
             "outlinewidth": 0,
             "ticks": ""
            },
            "colorscale": [
             [
              0,
              "#0d0887"
             ],
             [
              0.1111111111111111,
              "#46039f"
             ],
             [
              0.2222222222222222,
              "#7201a8"
             ],
             [
              0.3333333333333333,
              "#9c179e"
             ],
             [
              0.4444444444444444,
              "#bd3786"
             ],
             [
              0.5555555555555556,
              "#d8576b"
             ],
             [
              0.6666666666666666,
              "#ed7953"
             ],
             [
              0.7777777777777778,
              "#fb9f3a"
             ],
             [
              0.8888888888888888,
              "#fdca26"
             ],
             [
              1,
              "#f0f921"
             ]
            ],
            "type": "heatmapgl"
           }
          ],
          "histogram": [
           {
            "marker": {
             "pattern": {
              "fillmode": "overlay",
              "size": 10,
              "solidity": 0.2
             }
            },
            "type": "histogram"
           }
          ],
          "histogram2d": [
           {
            "colorbar": {
             "outlinewidth": 0,
             "ticks": ""
            },
            "colorscale": [
             [
              0,
              "#0d0887"
             ],
             [
              0.1111111111111111,
              "#46039f"
             ],
             [
              0.2222222222222222,
              "#7201a8"
             ],
             [
              0.3333333333333333,
              "#9c179e"
             ],
             [
              0.4444444444444444,
              "#bd3786"
             ],
             [
              0.5555555555555556,
              "#d8576b"
             ],
             [
              0.6666666666666666,
              "#ed7953"
             ],
             [
              0.7777777777777778,
              "#fb9f3a"
             ],
             [
              0.8888888888888888,
              "#fdca26"
             ],
             [
              1,
              "#f0f921"
             ]
            ],
            "type": "histogram2d"
           }
          ],
          "histogram2dcontour": [
           {
            "colorbar": {
             "outlinewidth": 0,
             "ticks": ""
            },
            "colorscale": [
             [
              0,
              "#0d0887"
             ],
             [
              0.1111111111111111,
              "#46039f"
             ],
             [
              0.2222222222222222,
              "#7201a8"
             ],
             [
              0.3333333333333333,
              "#9c179e"
             ],
             [
              0.4444444444444444,
              "#bd3786"
             ],
             [
              0.5555555555555556,
              "#d8576b"
             ],
             [
              0.6666666666666666,
              "#ed7953"
             ],
             [
              0.7777777777777778,
              "#fb9f3a"
             ],
             [
              0.8888888888888888,
              "#fdca26"
             ],
             [
              1,
              "#f0f921"
             ]
            ],
            "type": "histogram2dcontour"
           }
          ],
          "mesh3d": [
           {
            "colorbar": {
             "outlinewidth": 0,
             "ticks": ""
            },
            "type": "mesh3d"
           }
          ],
          "parcoords": [
           {
            "line": {
             "colorbar": {
              "outlinewidth": 0,
              "ticks": ""
             }
            },
            "type": "parcoords"
           }
          ],
          "pie": [
           {
            "automargin": true,
            "type": "pie"
           }
          ],
          "scatter": [
           {
            "marker": {
             "colorbar": {
              "outlinewidth": 0,
              "ticks": ""
             }
            },
            "type": "scatter"
           }
          ],
          "scatter3d": [
           {
            "line": {
             "colorbar": {
              "outlinewidth": 0,
              "ticks": ""
             }
            },
            "marker": {
             "colorbar": {
              "outlinewidth": 0,
              "ticks": ""
             }
            },
            "type": "scatter3d"
           }
          ],
          "scattercarpet": [
           {
            "marker": {
             "colorbar": {
              "outlinewidth": 0,
              "ticks": ""
             }
            },
            "type": "scattercarpet"
           }
          ],
          "scattergeo": [
           {
            "marker": {
             "colorbar": {
              "outlinewidth": 0,
              "ticks": ""
             }
            },
            "type": "scattergeo"
           }
          ],
          "scattergl": [
           {
            "marker": {
             "colorbar": {
              "outlinewidth": 0,
              "ticks": ""
             }
            },
            "type": "scattergl"
           }
          ],
          "scattermapbox": [
           {
            "marker": {
             "colorbar": {
              "outlinewidth": 0,
              "ticks": ""
             }
            },
            "type": "scattermapbox"
           }
          ],
          "scatterpolar": [
           {
            "marker": {
             "colorbar": {
              "outlinewidth": 0,
              "ticks": ""
             }
            },
            "type": "scatterpolar"
           }
          ],
          "scatterpolargl": [
           {
            "marker": {
             "colorbar": {
              "outlinewidth": 0,
              "ticks": ""
             }
            },
            "type": "scatterpolargl"
           }
          ],
          "scatterternary": [
           {
            "marker": {
             "colorbar": {
              "outlinewidth": 0,
              "ticks": ""
             }
            },
            "type": "scatterternary"
           }
          ],
          "surface": [
           {
            "colorbar": {
             "outlinewidth": 0,
             "ticks": ""
            },
            "colorscale": [
             [
              0,
              "#0d0887"
             ],
             [
              0.1111111111111111,
              "#46039f"
             ],
             [
              0.2222222222222222,
              "#7201a8"
             ],
             [
              0.3333333333333333,
              "#9c179e"
             ],
             [
              0.4444444444444444,
              "#bd3786"
             ],
             [
              0.5555555555555556,
              "#d8576b"
             ],
             [
              0.6666666666666666,
              "#ed7953"
             ],
             [
              0.7777777777777778,
              "#fb9f3a"
             ],
             [
              0.8888888888888888,
              "#fdca26"
             ],
             [
              1,
              "#f0f921"
             ]
            ],
            "type": "surface"
           }
          ],
          "table": [
           {
            "cells": {
             "fill": {
              "color": "#EBF0F8"
             },
             "line": {
              "color": "white"
             }
            },
            "header": {
             "fill": {
              "color": "#C8D4E3"
             },
             "line": {
              "color": "white"
             }
            },
            "type": "table"
           }
          ]
         },
         "layout": {
          "annotationdefaults": {
           "arrowcolor": "#2a3f5f",
           "arrowhead": 0,
           "arrowwidth": 1
          },
          "autotypenumbers": "strict",
          "coloraxis": {
           "colorbar": {
            "outlinewidth": 0,
            "ticks": ""
           }
          },
          "colorscale": {
           "diverging": [
            [
             0,
             "#8e0152"
            ],
            [
             0.1,
             "#c51b7d"
            ],
            [
             0.2,
             "#de77ae"
            ],
            [
             0.3,
             "#f1b6da"
            ],
            [
             0.4,
             "#fde0ef"
            ],
            [
             0.5,
             "#f7f7f7"
            ],
            [
             0.6,
             "#e6f5d0"
            ],
            [
             0.7,
             "#b8e186"
            ],
            [
             0.8,
             "#7fbc41"
            ],
            [
             0.9,
             "#4d9221"
            ],
            [
             1,
             "#276419"
            ]
           ],
           "sequential": [
            [
             0,
             "#0d0887"
            ],
            [
             0.1111111111111111,
             "#46039f"
            ],
            [
             0.2222222222222222,
             "#7201a8"
            ],
            [
             0.3333333333333333,
             "#9c179e"
            ],
            [
             0.4444444444444444,
             "#bd3786"
            ],
            [
             0.5555555555555556,
             "#d8576b"
            ],
            [
             0.6666666666666666,
             "#ed7953"
            ],
            [
             0.7777777777777778,
             "#fb9f3a"
            ],
            [
             0.8888888888888888,
             "#fdca26"
            ],
            [
             1,
             "#f0f921"
            ]
           ],
           "sequentialminus": [
            [
             0,
             "#0d0887"
            ],
            [
             0.1111111111111111,
             "#46039f"
            ],
            [
             0.2222222222222222,
             "#7201a8"
            ],
            [
             0.3333333333333333,
             "#9c179e"
            ],
            [
             0.4444444444444444,
             "#bd3786"
            ],
            [
             0.5555555555555556,
             "#d8576b"
            ],
            [
             0.6666666666666666,
             "#ed7953"
            ],
            [
             0.7777777777777778,
             "#fb9f3a"
            ],
            [
             0.8888888888888888,
             "#fdca26"
            ],
            [
             1,
             "#f0f921"
            ]
           ]
          },
          "colorway": [
           "#636efa",
           "#EF553B",
           "#00cc96",
           "#ab63fa",
           "#FFA15A",
           "#19d3f3",
           "#FF6692",
           "#B6E880",
           "#FF97FF",
           "#FECB52"
          ],
          "font": {
           "color": "#2a3f5f"
          },
          "geo": {
           "bgcolor": "white",
           "lakecolor": "white",
           "landcolor": "#E5ECF6",
           "showlakes": true,
           "showland": true,
           "subunitcolor": "white"
          },
          "hoverlabel": {
           "align": "left"
          },
          "hovermode": "closest",
          "mapbox": {
           "style": "light"
          },
          "paper_bgcolor": "white",
          "plot_bgcolor": "#E5ECF6",
          "polar": {
           "angularaxis": {
            "gridcolor": "white",
            "linecolor": "white",
            "ticks": ""
           },
           "bgcolor": "#E5ECF6",
           "radialaxis": {
            "gridcolor": "white",
            "linecolor": "white",
            "ticks": ""
           }
          },
          "scene": {
           "xaxis": {
            "backgroundcolor": "#E5ECF6",
            "gridcolor": "white",
            "gridwidth": 2,
            "linecolor": "white",
            "showbackground": true,
            "ticks": "",
            "zerolinecolor": "white"
           },
           "yaxis": {
            "backgroundcolor": "#E5ECF6",
            "gridcolor": "white",
            "gridwidth": 2,
            "linecolor": "white",
            "showbackground": true,
            "ticks": "",
            "zerolinecolor": "white"
           },
           "zaxis": {
            "backgroundcolor": "#E5ECF6",
            "gridcolor": "white",
            "gridwidth": 2,
            "linecolor": "white",
            "showbackground": true,
            "ticks": "",
            "zerolinecolor": "white"
           }
          },
          "shapedefaults": {
           "line": {
            "color": "#2a3f5f"
           }
          },
          "ternary": {
           "aaxis": {
            "gridcolor": "white",
            "linecolor": "white",
            "ticks": ""
           },
           "baxis": {
            "gridcolor": "white",
            "linecolor": "white",
            "ticks": ""
           },
           "bgcolor": "#E5ECF6",
           "caxis": {
            "gridcolor": "white",
            "linecolor": "white",
            "ticks": ""
           }
          },
          "title": {
           "x": 0.05
          },
          "xaxis": {
           "automargin": true,
           "gridcolor": "white",
           "linecolor": "white",
           "ticks": "",
           "title": {
            "standoff": 15
           },
           "zerolinecolor": "white",
           "zerolinewidth": 2
          },
          "yaxis": {
           "automargin": true,
           "gridcolor": "white",
           "linecolor": "white",
           "ticks": "",
           "title": {
            "standoff": 15
           },
           "zerolinecolor": "white",
           "zerolinewidth": 2
          }
         }
        },
        "xaxis": {
         "anchor": "y",
         "domain": [
          0,
          1
         ],
         "title": {
          "text": "dex"
         }
        },
        "yaxis": {
         "anchor": "x",
         "domain": [
          0,
          1
         ],
         "title": {
          "text": "Profit ($)"
         }
        }
       }
      }
     },
     "metadata": {},
     "output_type": "display_data"
    }
   ],
   "source": [
    "px.scatter(Threshold,x=Threshold['dex'],y=Threshold['Profit ($)'])"
   ]
  },
  {
   "cell_type": "code",
   "execution_count": 24,
   "metadata": {},
   "outputs": [],
   "source": [
    "a = np.array(Threshold['dex'])\n",
    "b = np.array(Threshold['Profit ($)'])"
   ]
  },
  {
   "cell_type": "code",
   "execution_count": 25,
   "metadata": {},
   "outputs": [],
   "source": [
    "model = GaussianKernel_ndim(a,b,3)\n",
    "wThreshold = model.predict(a)"
   ]
  },
  {
   "cell_type": "code",
   "execution_count": 28,
   "metadata": {},
   "outputs": [
    {
     "data": {
      "image/png": "[encoded data removed]",
      "text/plain": [
       "<Figure size 1296x432 with 1 Axes>"
      ]
     },
     "metadata": {
      "needs_background": "light"
     },
     "output_type": "display_data"
    }
   ],
   "source": [
    "plt.rcParams['figure.figsize'] = (18,6)\n",
    "plt.scatter(range(len(woThreshold)),woThreshold,marker='*')\n",
    "plt.scatter(range(len(wThreshold)),wThreshold)\n",
    "plt.xlabel('Count')\n",
    "plt.ylabel('Profit $')\n",
    "plt.rcParams['font.size'] = (20)\n"
   ]
  },
  {
   "cell_type": "code",
   "execution_count": 30,
   "metadata": {},
   "outputs": [
    {
     "data": {
      "text/html": [
       "<div>\n",
       "<style scoped>\n",
       "    .dataframe tbody tr th:only-of-type {\n",
       "        vertical-align: middle;\n",
       "    }\n",
       "\n",
       "    .dataframe tbody tr th {\n",
       "        vertical-align: top;\n",
       "    }\n",
       "\n",
       "    .dataframe thead th {\n",
       "        text-align: right;\n",
       "    }\n",
       "</style>\n",
       "<table border=\"1\" class=\"dataframe\">\n",
       "  <thead>\n",
       "    <tr style=\"text-align: right;\">\n",
       "      <th></th>\n",
       "      <th>sex</th>\n",
       "      <th>dex</th>\n",
       "      <th>lex</th>\n",
       "      <th>quit</th>\n",
       "      <th>job_tenure</th>\n",
       "      <th>status</th>\n",
       "      <th>JT_Months</th>\n",
       "      <th>Profit ($)</th>\n",
       "    </tr>\n",
       "  </thead>\n",
       "  <tbody>\n",
       "    <tr>\n",
       "      <th>2</th>\n",
       "      <td>1</td>\n",
       "      <td>45</td>\n",
       "      <td>12.0</td>\n",
       "      <td>0</td>\n",
       "      <td>410</td>\n",
       "      <td>1</td>\n",
       "      <td>6.83</td>\n",
       "      <td>2490.0</td>\n",
       "    </tr>\n",
       "    <tr>\n",
       "      <th>5</th>\n",
       "      <td>0</td>\n",
       "      <td>38</td>\n",
       "      <td>12.0</td>\n",
       "      <td>0</td>\n",
       "      <td>517</td>\n",
       "      <td>1</td>\n",
       "      <td>8.62</td>\n",
       "      <td>7860.0</td>\n",
       "    </tr>\n",
       "    <tr>\n",
       "      <th>10</th>\n",
       "      <td>0</td>\n",
       "      <td>55</td>\n",
       "      <td>12.0</td>\n",
       "      <td>0</td>\n",
       "      <td>387</td>\n",
       "      <td>0</td>\n",
       "      <td>6.45</td>\n",
       "      <td>1350.0</td>\n",
       "    </tr>\n",
       "    <tr>\n",
       "      <th>11</th>\n",
       "      <td>1</td>\n",
       "      <td>45</td>\n",
       "      <td>12.0</td>\n",
       "      <td>0</td>\n",
       "      <td>469</td>\n",
       "      <td>1</td>\n",
       "      <td>7.82</td>\n",
       "      <td>5460.0</td>\n",
       "    </tr>\n",
       "    <tr>\n",
       "      <th>14</th>\n",
       "      <td>1</td>\n",
       "      <td>36</td>\n",
       "      <td>11.0</td>\n",
       "      <td>0</td>\n",
       "      <td>382</td>\n",
       "      <td>1</td>\n",
       "      <td>6.37</td>\n",
       "      <td>1110.0</td>\n",
       "    </tr>\n",
       "    <tr>\n",
       "      <th>...</th>\n",
       "      <td>...</td>\n",
       "      <td>...</td>\n",
       "      <td>...</td>\n",
       "      <td>...</td>\n",
       "      <td>...</td>\n",
       "      <td>...</td>\n",
       "      <td>...</td>\n",
       "      <td>...</td>\n",
       "    </tr>\n",
       "    <tr>\n",
       "      <th>662</th>\n",
       "      <td>1</td>\n",
       "      <td>41</td>\n",
       "      <td>12.0</td>\n",
       "      <td>0</td>\n",
       "      <td>479</td>\n",
       "      <td>1</td>\n",
       "      <td>7.98</td>\n",
       "      <td>5940.0</td>\n",
       "    </tr>\n",
       "    <tr>\n",
       "      <th>664</th>\n",
       "      <td>0</td>\n",
       "      <td>53</td>\n",
       "      <td>13.0</td>\n",
       "      <td>0</td>\n",
       "      <td>617</td>\n",
       "      <td>1</td>\n",
       "      <td>10.28</td>\n",
       "      <td>12840.0</td>\n",
       "    </tr>\n",
       "    <tr>\n",
       "      <th>672</th>\n",
       "      <td>0</td>\n",
       "      <td>53</td>\n",
       "      <td>12.0</td>\n",
       "      <td>0</td>\n",
       "      <td>562</td>\n",
       "      <td>0</td>\n",
       "      <td>9.37</td>\n",
       "      <td>10110.0</td>\n",
       "    </tr>\n",
       "    <tr>\n",
       "      <th>675</th>\n",
       "      <td>0</td>\n",
       "      <td>52</td>\n",
       "      <td>12.0</td>\n",
       "      <td>0</td>\n",
       "      <td>580</td>\n",
       "      <td>0</td>\n",
       "      <td>9.67</td>\n",
       "      <td>11010.0</td>\n",
       "    </tr>\n",
       "    <tr>\n",
       "      <th>678</th>\n",
       "      <td>0</td>\n",
       "      <td>53</td>\n",
       "      <td>12.0</td>\n",
       "      <td>0</td>\n",
       "      <td>1399</td>\n",
       "      <td>0</td>\n",
       "      <td>23.32</td>\n",
       "      <td>51960.0</td>\n",
       "    </tr>\n",
       "  </tbody>\n",
       "</table>\n",
       "<p>286 rows × 8 columns</p>\n",
       "</div>"
      ],
      "text/plain": [
       "     sex  dex   lex  quit  job_tenure  status  JT_Months  Profit ($)\n",
       "2      1   45  12.0     0         410       1       6.83      2490.0\n",
       "5      0   38  12.0     0         517       1       8.62      7860.0\n",
       "10     0   55  12.0     0         387       0       6.45      1350.0\n",
       "11     1   45  12.0     0         469       1       7.82      5460.0\n",
       "14     1   36  11.0     0         382       1       6.37      1110.0\n",
       "..   ...  ...   ...   ...         ...     ...        ...         ...\n",
       "662    1   41  12.0     0         479       1       7.98      5940.0\n",
       "664    0   53  13.0     0         617       1      10.28     12840.0\n",
       "672    0   53  12.0     0         562       0       9.37     10110.0\n",
       "675    0   52  12.0     0         580       0       9.67     11010.0\n",
       "678    0   53  12.0     0        1399       0      23.32     51960.0\n",
       "\n",
       "[286 rows x 8 columns]"
      ]
     },
     "execution_count": 30,
     "metadata": {},
     "output_type": "execute_result"
    }
   ],
   "source": [
    "data"
   ]
  },
  {
   "cell_type": "code",
   "execution_count": 100,
   "metadata": {},
   "outputs": [],
   "source": [
    "th = list(range(30,61))\n",
    "cost = []\n",
    "for x in th:\n",
    "  \n",
    "    cost.append((data.loc[data['dex']>x].shape[0])*15000)\n",
    "    "
   ]
  },
  {
   "cell_type": "code",
   "execution_count": 98,
   "metadata": {},
   "outputs": [],
   "source": [
    "def enc_cost(data):\n",
    "    from sklearn.linear_model import LinearRegression\n",
    "    th = list(range(30,61))\n",
    "    cost = [(data.loc[data['dex']>x].shape[0])*15000 for x in th]\n",
    "    x = np.array(th)\n",
    "    y = np.array(cost)\n",
    "    m = LinearRegression()\n",
    "    m.fit(x.reshape(-1,1),y.reshape(-1,1))\n",
    "    plt.xlabel('threshold')\n",
    "    plt.ylabel('cost')\n",
    "    return plt.scatter(th,cost),plt.plot(th,m.predict(x.reshape(-1,1)),color='red')\n",
    "    "
   ]
  },
  {
   "cell_type": "code",
   "execution_count": 99,
   "metadata": {},
   "outputs": [
    {
     "data": {
      "text/plain": [
       "(<matplotlib.collections.PathCollection at 0x1f9cf54a9d0>,\n",
       " [<matplotlib.lines.Line2D at 0x1f9cf54af10>])"
      ]
     },
     "execution_count": 99,
     "metadata": {},
     "output_type": "execute_result"
    },
    {
     "data": {
      "image/png": "[encoded data removed]",
      "text/plain": [
       "<Figure size 1296x432 with 1 Axes>"
      ]
     },
     "metadata": {
      "needs_background": "light"
     },
     "output_type": "display_data"
    }
   ],
   "source": [
    "enc_cost(data)"
   ]
  },
  {
   "cell_type": "code",
   "execution_count": null,
   "metadata": {},
   "outputs": [
    {
     "ename": "Error",
     "evalue": "Session cannot generate requests",
     "output_type": "error",
     "traceback": [
      "Error: Session cannot generate requests",
      "at S.executeCodeCell (c:\\Users\\hp\\.vscode\\extensions\\ms-toolsai.jupyter-2021.10.1101450599\\out\\client\\extension.js:66:301742)",
      "at S.execute (c:\\Users\\hp\\.vscode\\extensions\\ms-toolsai.jupyter-2021.10.1101450599\\out\\client\\extension.js:66:300732)",
      "at S.start (c:\\Users\\hp\\.vscode\\extensions\\ms-toolsai.jupyter-2021.10.1101450599\\out\\client\\extension.js:66:296408)",
      "at runMicrotasks (<anonymous>)",
      "at processTicksAndRejections (internal/process/task_queues.js:93:5)",
      "at async t.CellExecutionQueue.executeQueuedCells (c:\\Users\\hp\\.vscode\\extensions\\ms-toolsai.jupyter-2021.10.1101450599\\out\\client\\extension.js:66:312326)",
      "at async t.CellExecutionQueue.start (c:\\Users\\hp\\.vscode\\extensions\\ms-toolsai.jupyter-2021.10.1101450599\\out\\client\\extension.js:66:311862)"
     ]
    }
   ],
   "source": [
    "def cal_P(data):\n",
    "    \n",
    "    \n",
    "    d = list(range(0,66))\n",
    "\n",
    "    P = []\n",
    "    cost = []\n",
    "    people_rej = []\n",
    "    for x in d:\n",
    "        people_accepted = (data.loc[data['dex']>x].shape[0])\n",
    "       \n",
    "       \n",
    "        \n",
    "        p = people_accepted/len(data)\n",
    "        \n",
    "        P.append(p)\n",
    "    for x in P:\n",
    "        people_rej.append(1-x)\n",
    "    for x in cal_P(data):\n",
    "        cost.append(x*5000*len(data))\n",
    "    \n",
    "    return cost,p"
   ]
  },
  {
   "cell_type": "markdown",
   "metadata": {},
   "source": [
    "KFold cross validation"
   ]
  },
  {
   "cell_type": "code",
   "execution_count": 78,
   "metadata": {},
   "outputs": [],
   "source": [
    "from sklearn.model_selection import KFold,cross_val_score\n",
    "from sklearn.linear_model import LinearRegression\n",
    "th = list(range(30,61))\n",
    "a = np.array(Threshold['dex'])\n",
    "b = np.array(Threshold['Profit ($)'])\n",
    "m = LinearRegression()\n",
    "\n",
    "cv = KFold(n_splits=5)\n",
    "\n",
    "scores = cross_val_score(LinearRegression(),a.reshape(-1,1),b.reshape(-1,1),scoring='neg_mean_squared_error')"
   ]
  },
  {
   "cell_type": "code",
   "execution_count": 89,
   "metadata": {},
   "outputs": [
    {
     "data": {
      "text/plain": [
       "[<matplotlib.lines.Line2D at 0x1f9cf2c6400>]"
      ]
     },
     "execution_count": 89,
     "metadata": {},
     "output_type": "execute_result"
    },
    {
     "data": {
      "image/png": "[encoded data removed]",
      "text/plain": [
       "<Figure size 1296x432 with 1 Axes>"
      ]
     },
     "metadata": {
      "needs_background": "light"
     },
     "output_type": "display_data"
    }
   ],
   "source": [
    "m.fit(a.reshape(-1,1),b.reshape(-1,1))\n",
    "plt.scatter(Threshold['dex'],Threshold['Profit ($)'])\n",
    "plt.plot(Threshold['dex'],m.predict(a.reshape(-1,1)),color='red')"
   ]
  },
  {
   "cell_type": "code",
   "execution_count": 79,
   "metadata": {},
   "outputs": [
    {
     "data": {
      "text/plain": [
       "array([-6.30534371e+08, -3.76092405e+08, -6.14900000e+08, -6.60158390e+08,\n",
       "       -3.58493525e+08])"
      ]
     },
     "execution_count": 79,
     "metadata": {},
     "output_type": "execute_result"
    }
   ],
   "source": [
    "scores"
   ]
  },
  {
   "cell_type": "code",
   "execution_count": 74,
   "metadata": {},
   "outputs": [
    {
     "name": "stdout",
     "output_type": "stream",
     "text": [
      "dict_keys(['explained_variance', 'r2', 'max_error', 'neg_median_absolute_error', 'neg_mean_absolute_error', 'neg_mean_absolute_percentage_error', 'neg_mean_squared_error', 'neg_mean_squared_log_error', 'neg_root_mean_squared_error', 'neg_mean_poisson_deviance', 'neg_mean_gamma_deviance', 'accuracy', 'top_k_accuracy', 'roc_auc', 'roc_auc_ovr', 'roc_auc_ovo', 'roc_auc_ovr_weighted', 'roc_auc_ovo_weighted', 'balanced_accuracy', 'average_precision', 'neg_log_loss', 'neg_brier_score', 'adjusted_rand_score', 'rand_score', 'homogeneity_score', 'completeness_score', 'v_measure_score', 'mutual_info_score', 'adjusted_mutual_info_score', 'normalized_mutual_info_score', 'fowlkes_mallows_score', 'precision', 'precision_macro', 'precision_micro', 'precision_samples', 'precision_weighted', 'recall', 'recall_macro', 'recall_micro', 'recall_samples', 'recall_weighted', 'f1', 'f1_macro', 'f1_micro', 'f1_samples', 'f1_weighted', 'jaccard', 'jaccard_macro', 'jaccard_micro', 'jaccard_samples', 'jaccard_weighted'])\n"
     ]
    }
   ],
   "source": [
    "from sklearn.metrics import SCORERS\n",
    "print(SCORERS.keys())"
   ]
  }
 ],
 "metadata": {
  "interpreter": {
   "hash": "f56e344c59c0d080953b64e3c7db716c9b744d5a66c26d17d27f375d9e0f2647"
  },
  "kernelspec": {
   "display_name": "Python 3.8.5 64-bit (system)",
   "language": "python",
   "name": "python3"
  },
  "language_info": {
   "codemirror_mode": {
    "name": "ipython",
    "version": 3
   },
   "file_extension": ".py",
   "mimetype": "text/x-python",
   "name": "python",
   "nbconvert_exporter": "python",
   "pygments_lexer": "ipython3",
   "version": "3.8.5"
  },
  "orig_nbformat": 4
 },
 "nbformat": 4,
 "nbformat_minor": 2
}
